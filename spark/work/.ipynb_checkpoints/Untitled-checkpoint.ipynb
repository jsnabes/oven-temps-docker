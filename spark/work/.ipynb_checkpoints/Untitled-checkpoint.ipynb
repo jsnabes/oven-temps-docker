{
 "cells": [
  {
   "cell_type": "code",
   "execution_count": 1,
   "id": "d5dfc376",
   "metadata": {},
   "outputs": [
    {
     "name": "stdout",
     "output_type": "stream",
     "text": [
      "Requirement already satisfied: pyspark in /Users/snabes/anaconda3/lib/python3.11/site-packages (3.5.0)\r\n",
      "Requirement already satisfied: py4j==0.10.9.7 in /Users/snabes/anaconda3/lib/python3.11/site-packages (from pyspark) (0.10.9.7)\r\n"
     ]
    }
   ],
   "source": [
    "!pip install pyspark"
   ]
  },
  {
   "cell_type": "code",
   "execution_count": 5,
   "id": "28415295",
   "metadata": {},
   "outputs": [],
   "source": [
    "import pyspark\n",
    "from pyspark.sql import SparkSession\n",
    "\n",
    "BOOTSTRAP_SERVERS = \"localhost:29092\"\n",
    "TOPIC = \"oven\""
   ]
  },
  {
   "cell_type": "code",
   "execution_count": 3,
   "id": "d3f2c897",
   "metadata": {},
   "outputs": [],
   "source": [
    "def main():\n",
    "    # spark = SparkSession.builder.master(\"local[1]\") \\\n",
    "    #     .appName('OvenTempReader') \\\n",
    "    #     .getOrCreate()\n",
    "\n",
    "    spark = SparkSession.builder.master(\"local[1]\") \\\n",
    "        .appName('OvenTempReader') \\\n",
    "        .config('spark.jars.packages', 'org.apache.spark:spark-sql-kafka-0-10_2.12:3.0.1') \\\n",
    "        .getOrCreate()\n",
    "\n",
    "    df = spark \\\n",
    "        .readStream \\\n",
    "        .format(\"kafka\") \\\n",
    "        .option(\"kafka.bootstrap.servers\", BOOTSTRAP_SERVERS) \\\n",
    "        .option(\"session.timeout.ms\", \"4000\") \\\n",
    "        .option(\"subscribe\", TOPIC) \\\n",
    "        .load()\n",
    "\n",
    "    query = df.selectExpr(\"CAST(value AS STRING)\") \\\n",
    "        .writeStream \\\n",
    "        .outputMode(\"append\") \\\n",
    "        .format(\"console\") \\\n",
    "        .start()\n",
    "\n",
    "    query.awaitTermination()"
   ]
  },
  {
   "cell_type": "code",
   "execution_count": 4,
   "id": "7a5a31c3",
   "metadata": {},
   "outputs": [],
   "source": [
    "#main()"
   ]
  },
  {
   "cell_type": "code",
   "execution_count": 6,
   "id": "64e4a2ac",
   "metadata": {},
   "outputs": [],
   "source": [
    "from pyspark.sql.functions import *\n",
    "from pyspark.sql.types import *\n"
   ]
  },
  {
   "cell_type": "code",
   "execution_count": null,
   "id": "61f7a746",
   "metadata": {},
   "outputs": [
    {
     "name": "stderr",
     "output_type": "stream",
     "text": [
      "23/12/01 14:07:31 WARN ResolveWriteToStream: Temporary checkpoint location created which is deleted normally when the query didn't fail: /private/var/folders/sy/xb_6z8y117bd4msf48bkbfwm0000gn/T/temporary-c4c315da-ff76-4034-9ab2-897741c03b14. If it's required to delete it under any circumstances, please set spark.sql.streaming.forceDeleteTempCheckpointLocation to true. Important to know deleting temp checkpoint folder is best effort.\n",
      "23/12/01 14:07:31 WARN ResolveWriteToStream: spark.sql.adaptive.enabled is not supported in streaming DataFrames/Datasets and will be disabled.\n"
     ]
    },
    {
     "name": "stdout",
     "output_type": "stream",
     "text": [
      "-------------------------------------------\n",
      "Batch: 91\n",
      "-------------------------------------------\n",
      "+-----+--------------------+\n",
      "|value|           timestamp|\n",
      "+-----+--------------------+\n",
      "|  272|2023-12-01 14:07:...|\n",
      "+-----+--------------------+\n",
      "\n",
      "-------------------------------------------\n",
      "Batch: 92\n",
      "-------------------------------------------\n",
      "+-----+--------------------+\n",
      "|value|           timestamp|\n",
      "+-----+--------------------+\n",
      "|  254|2023-12-01 14:07:...|\n",
      "+-----+--------------------+\n",
      "\n",
      "-------------------------------------------\n",
      "Batch: 93\n",
      "-------------------------------------------\n",
      "+-----+--------------------+\n",
      "|value|           timestamp|\n",
      "+-----+--------------------+\n",
      "|  250|2023-12-01 14:07:...|\n",
      "+-----+--------------------+\n",
      "\n",
      "-------------------------------------------\n",
      "Batch: 0\n",
      "-------------------------------------------\n",
      "+-----+---------+\n",
      "|value|timestamp|\n",
      "+-----+---------+\n",
      "+-----+---------+\n",
      "\n",
      "-------------------------------------------\n",
      "Batch: 94\n",
      "-------------------------------------------\n",
      "+-----+--------------------+\n",
      "|value|           timestamp|\n",
      "+-----+--------------------+\n",
      "|  396|2023-12-01 14:07:...|\n",
      "+-----+--------------------+\n",
      "\n",
      "-------------------------------------------\n",
      "Batch: 1\n",
      "-------------------------------------------\n",
      "+-----+--------------------+\n",
      "|value|           timestamp|\n",
      "+-----+--------------------+\n",
      "|  396|2023-12-01 14:07:...|\n",
      "+-----+--------------------+\n",
      "\n"
     ]
    }
   ],
   "source": [
    "spark = SparkSession.builder.master(\"local[1]\") \\\n",
    "    .appName('OvenTempReader') \\\n",
    "    .config('spark.jars.packages', 'org.apache.spark:spark-sql-kafka-0-10_2.12:3.0.1') \\\n",
    "    .getOrCreate()\n",
    "\n",
    "df = spark \\\n",
    "    .readStream \\\n",
    "    .format(\"kafka\") \\\n",
    "    .option(\"kafka.bootstrap.servers\", BOOTSTRAP_SERVERS) \\\n",
    "    .option(\"session.timeout.ms\", \"4000\") \\\n",
    "    .option(\"subscribe\", TOPIC) \\\n",
    "    .option(\"startingOffsets\", \"latest\") \\\n",
    "    .load()\n",
    "\n",
    "base_df = df.selectExpr(\"CAST(value as STRING)\", \"timestamp\") \\\n",
    "    .writeStream \\\n",
    "    .outputMode(\"append\") \\\n",
    "    .format(\"console\") \\\n",
    "    .start() \\\n",
    "    .awaitTermination()\n",
    "#base_df.printSchema()\n",
    "base_df.select('value').show()\n",
    "\n"
   ]
  },
  {
   "cell_type": "code",
   "execution_count": null,
   "id": "5a4756a8",
   "metadata": {},
   "outputs": [],
   "source": []
  }
 ],
 "metadata": {
  "kernelspec": {
   "display_name": "Python 3 (ipykernel)",
   "language": "python",
   "name": "python3"
  },
  "language_info": {
   "codemirror_mode": {
    "name": "ipython",
    "version": 3
   },
   "file_extension": ".py",
   "mimetype": "text/x-python",
   "name": "python",
   "nbconvert_exporter": "python",
   "pygments_lexer": "ipython3",
   "version": "3.11.5"
  }
 },
 "nbformat": 4,
 "nbformat_minor": 5
}
